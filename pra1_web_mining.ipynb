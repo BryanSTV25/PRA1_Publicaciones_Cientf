{
 "cells": [
  {
   "cell_type": "code",
   "execution_count": 56,
   "id": "95ae0248",
   "metadata": {},
   "outputs": [
    {
     "data": {
      "text/plain": [
       "'\\n    Práctica 1 - PRA1\\n    \\n    Título del conjunto de datos: Datos bibliográficos de publicaciones científicas de las áreas anexas a la ciencia de datos.\\n    Integrantes del grupo: \\n        Bryan Steven Cortez Chichande\\n        Cesar Guzmán Vásquez\\n\\n'"
      ]
     },
     "execution_count": 56,
     "metadata": {},
     "output_type": "execute_result"
    }
   ],
   "source": [
    "\"\"\"\n",
    "    Práctica 1 - PRA1\n",
    "    \n",
    "    Título del conjunto de datos: Datos bibliográficos de publicaciones científicas de las áreas anexas a la ciencia de datos.\n",
    "    Integrantes del grupo: \n",
    "        Bryan Steven Cortez Chichande\n",
    "        Cesar Guzmán Vásquez\n",
    "\n",
    "\"\"\""
   ]
  },
  {
   "cell_type": "code",
   "execution_count": 57,
   "id": "67ec0a13",
   "metadata": {},
   "outputs": [],
   "source": [
    "#Importación de librerías\n",
    "import requests\n",
    "from bs4 import BeautifulSoup\n",
    "import json\n",
    "import csv\n",
    "import gc"
   ]
  },
  {
   "cell_type": "code",
   "execution_count": 58,
   "id": "14db3ce9",
   "metadata": {},
   "outputs": [
    {
     "data": {
      "text/plain": [
       "'\\n    Información utilizada para verificar el nivel de acceso en las búsquedas y la forma de acceder a la información.\\n    \\n    Verificación del archivo robot.txt\\n        https://www.semanticscholar.org/robots.txt\\n    Acceso a la API del sitio web para desarrolladores\\n        http://api.semanticscholar.org/\\n        https://api.semanticscholar.org/graph/v1#operation/get_graph_get_paper_search\\n    \\n'"
      ]
     },
     "execution_count": 58,
     "metadata": {},
     "output_type": "execute_result"
    }
   ],
   "source": [
    "\"\"\"\n",
    "    Información utilizada para verificar el nivel de acceso en las búsquedas y la forma de acceder a la información.\n",
    "    \n",
    "    Verificación del archivo robot.txt\n",
    "        https://www.semanticscholar.org/robots.txt\n",
    "    Acceso a la API del sitio web para desarrolladores\n",
    "        http://api.semanticscholar.org/\n",
    "        https://api.semanticscholar.org/graph/v1#operation/get_graph_get_paper_search\n",
    "    \n",
    "\"\"\""
   ]
  },
  {
   "cell_type": "code",
   "execution_count": 59,
   "id": "df697a84",
   "metadata": {},
   "outputs": [],
   "source": [
    "def get_data_of_api_semantic_scholar(keyword, limit, numpapers, csv_writer):\n",
    "    \"\"\"\n",
    "        Función para la obtención de los datos de artículos indexados en Semantic Scholar\n",
    "        Parámetros de entrada:\n",
    "            keyword    String\n",
    "            limit      int\n",
    "            numpapers  int\n",
    "            csv_writer Object\n",
    "    \"\"\"\n",
    "    _valoffset=0\n",
    "    _vallimit=limit\n",
    "    _valnumarticulos=numpapers\n",
    "    try:\n",
    "        \n",
    "        while _valnumarticulos>0:\n",
    "            _urlwbsc=\"http://api.semanticscholar.org/graph/v1/paper/search?query=\"+str(keyword)+\"&offset=\"+str(_valoffset)+\"&limit=\"+str(_vallimit)+\"&fields=paperId,title,authors,url,year,referenceCount,citationCount,influentialCitationCount,isOpenAccess,fieldsOfStudy\"\n",
    "            _webpagesc=requests.get(_urlwbsc)\n",
    "            _webpagesc.raise_for_status()\n",
    "            _resultwp = _webpagesc.json()\n",
    "            _numrows=len(_resultwp[\"data\"])\n",
    "            _contador=0\n",
    "\n",
    "            while _contador<_numrows:\n",
    "                _paper=_resultwp[\"data\"][_contador]\n",
    "                _datapp=[str(_paper[\"paperId\"]),str(_paper[\"title\"]),_paper[\"year\"],_paper[\"url\"],_paper[\"referenceCount\"],\n",
    "                         _paper[\"citationCount\"],_paper[\"influentialCitationCount\"],_paper[\"isOpenAccess\"], _paper[\"fieldsOfStudy\"]]\n",
    "                csv_writer.writerow(_datapp)\n",
    "\n",
    "                _contador+=1\n",
    "            \n",
    "            gc.collect();\n",
    "\n",
    "            _valoffset+=(_vallimit+1)\n",
    "            _valnumarticulos-=_vallimit\n",
    "\n",
    "    except requests.exceptions.HTTPError as errh:\n",
    "        print(errh)\n",
    "    except requests.exceptions.ConnectionError as errc:\n",
    "        print(errc)\n",
    "    except requests.exceptions.Timeout as errt:\n",
    "        print(errt)\n",
    "    except requests.exceptions.RequestException as err:\n",
    "        print(err)    \n",
    "    "
   ]
  },
  {
   "cell_type": "code",
   "execution_count": 60,
   "id": "65aa12bb",
   "metadata": {},
   "outputs": [],
   "source": [
    "def get_data_of_documents(limits, numpapers):\n",
    "    \"\"\"\n",
    "        Función principal para la recopilación de los datos bibliográficos\n",
    "        Parámetros de entrada:\n",
    "            limits:    int\n",
    "            numpapers: int\n",
    "    \"\"\"\n",
    "    _listpapers=[]\n",
    "    _datahead = ['PaperId', 'Title', 'Year', 'URL', 'ReferenceCount', 'CitationCount', 'InfluentialCitationCount', 'IsOpenAccess', 'fieldsOfStudy']\n",
    "    _listkeywords=['data%20science','data%20mining','web%20mining','web%20scraping','text%20mining','data%20visualization']\n",
    "    \n",
    "    csv_file =  open(\"_dtpapers.csv\", 'w', newline='', encoding=\"utf-8\")\n",
    "    csv_writer = csv.writer(csv_file, delimiter=\",\", quoting=csv.QUOTE_ALL)\n",
    "    csv_writer.writerow(_datahead)\n",
    "    \n",
    "    for _keyword in _listkeywords:\n",
    "        get_data_of_api_semantic_scholar(_keyword, limits, numpapers, csv_writer);\n",
    "\n",
    "    csv_file.close()\n",
    "    "
   ]
  },
  {
   "cell_type": "code",
   "execution_count": 61,
   "id": "c567535f",
   "metadata": {},
   "outputs": [
    {
     "name": "stdout",
     "output_type": "stream",
     "text": [
      "400 Client Error: Bad Request for url: https://api.semanticscholar.org/graph/v1/paper/search?query=data%20science&offset=9999&limit=100&fields=paperId,title,authors,url,year,referenceCount,citationCount,influentialCitationCount,isOpenAccess,fieldsOfStudy\n",
      "403 Client Error: Forbidden for url: https://api.semanticscholar.org/graph/v1/paper/search?query=data%20mining&offset=9393&limit=100&fields=paperId,title,authors,url,year,referenceCount,citationCount,influentialCitationCount,isOpenAccess,fieldsOfStudy\n",
      "403 Client Error: Forbidden for url: https://api.semanticscholar.org/graph/v1/paper/search?query=web%20mining&offset=101&limit=100&fields=paperId,title,authors,url,year,referenceCount,citationCount,influentialCitationCount,isOpenAccess,fieldsOfStudy\n",
      "403 Client Error: Forbidden for url: https://api.semanticscholar.org/graph/v1/paper/search?query=web%20scraping&offset=303&limit=100&fields=paperId,title,authors,url,year,referenceCount,citationCount,influentialCitationCount,isOpenAccess,fieldsOfStudy\n",
      "403 Client Error: Forbidden for url: https://api.semanticscholar.org/graph/v1/paper/search?query=text%20mining&offset=101&limit=100&fields=paperId,title,authors,url,year,referenceCount,citationCount,influentialCitationCount,isOpenAccess,fieldsOfStudy\n",
      "403 Client Error: Forbidden for url: https://api.semanticscholar.org/graph/v1/paper/search?query=data%20visualization&offset=0&limit=100&fields=paperId,title,authors,url,year,referenceCount,citationCount,influentialCitationCount,isOpenAccess,fieldsOfStudy\n"
     ]
    }
   ],
   "source": [
    "#Utilización de la función principal\n",
    "\n",
    "get_data_of_documents(100,10000);\n"
   ]
  },
  {
   "cell_type": "code",
   "execution_count": null,
   "id": "e7b20a07",
   "metadata": {},
   "outputs": [],
   "source": []
  },
  {
   "cell_type": "code",
   "execution_count": null,
   "id": "0ecbcbe0",
   "metadata": {},
   "outputs": [],
   "source": []
  },
  {
   "cell_type": "code",
   "execution_count": null,
   "id": "2017f912",
   "metadata": {},
   "outputs": [],
   "source": []
  },
  {
   "cell_type": "code",
   "execution_count": null,
   "id": "515fa07e",
   "metadata": {},
   "outputs": [],
   "source": []
  }
 ],
 "metadata": {
  "kernelspec": {
   "display_name": "Python 3",
   "language": "python",
   "name": "python3"
  },
  "language_info": {
   "codemirror_mode": {
    "name": "ipython",
    "version": 3
   },
   "file_extension": ".py",
   "mimetype": "text/x-python",
   "name": "python",
   "nbconvert_exporter": "python",
   "pygments_lexer": "ipython3",
   "version": "3.8.8"
  }
 },
 "nbformat": 4,
 "nbformat_minor": 5
}
